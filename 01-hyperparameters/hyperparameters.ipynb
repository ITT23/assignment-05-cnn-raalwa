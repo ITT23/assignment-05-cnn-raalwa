{
 "cells": [
  {
   "cell_type": "code",
   "execution_count": 1,
   "id": "37ed4721-2c0e-4a78-888e-8c586cbd4b47",
   "metadata": {
    "tags": []
   },
   "outputs": [
    {
     "name": "stderr",
     "output_type": "stream",
     "text": [
      "2023-06-10 23:21:15.769337: I tensorflow/tsl/cuda/cudart_stub.cc:28] Could not find cuda drivers on your machine, GPU will not be used.\n",
      "2023-06-10 23:21:15.833718: I tensorflow/tsl/cuda/cudart_stub.cc:28] Could not find cuda drivers on your machine, GPU will not be used.\n",
      "2023-06-10 23:21:15.834484: I tensorflow/core/platform/cpu_feature_guard.cc:182] This TensorFlow binary is optimized to use available CPU instructions in performance-critical operations.\n",
      "To enable the following instructions: AVX2 FMA, in other operations, rebuild TensorFlow with the appropriate compiler flags.\n",
      "2023-06-10 23:21:17.499994: W tensorflow/compiler/tf2tensorrt/utils/py_utils.cc:38] TF-TRT Warning: Could not find TensorRT\n"
     ]
    }
   ],
   "source": [
    "import cv2\n",
    "import json\n",
    "from matplotlib import pyplot as plt\n",
    "import numpy as np\n",
    "import os\n",
    "\n",
    "# import a lot of things from keras:\n",
    "# sequential model\n",
    "from keras.models import Sequential\n",
    "\n",
    "# layers\n",
    "from keras.layers import Input, Dense, Dropout, Flatten, Conv2D, MaxPooling2D, RandomFlip, RandomContrast\n",
    "\n",
    "# loss function\n",
    "from keras.metrics import categorical_crossentropy\n",
    "\n",
    "# callback functions\n",
    "from keras.callbacks import ReduceLROnPlateau, EarlyStopping\n",
    "\n",
    "# convert data to categorial vector representation\n",
    "from keras.utils import to_categorical\n",
    "\n",
    "# helper function for train/test split\n",
    "from sklearn.model_selection import train_test_split\n",
    "\n",
    "# import confusion matrix helper function\n",
    "from sklearn.metrics import confusion_matrix, ConfusionMatrixDisplay\n",
    "\n",
    "# include only those gestures\n",
    "CONDITIONS = ['like', 'stop']\n",
    "\n",
    "# Path to data\n",
    "DATA_PATH = \"/home/raphi/Documents/Universität/Master/SS 23/ITT/Exercises/Exercise-06\"\n",
    "\n",
    "# image size\n",
    "IMG_SIZE = 64\n",
    "SIZE = (IMG_SIZE, IMG_SIZE)\n",
    "\n",
    "# number of color channels we want to use\n",
    "# set to 1 to convert to grayscale\n",
    "# set to 3 to use color images\n",
    "COLOR_CHANNELS = 3"
   ]
  },
  {
   "attachments": {},
   "cell_type": "markdown",
   "id": "47b3f618-cd32-48f5-b43d-05d670ec3cba",
   "metadata": {},
   "source": [
    "## Define helper functions"
   ]
  },
  {
   "cell_type": "code",
   "execution_count": 2,
   "id": "3705021c-b053-4b70-87b1-a0049ba7e6cc",
   "metadata": {
    "tags": []
   },
   "outputs": [],
   "source": [
    "annotations = dict()\n",
    "\n",
    "for condition in CONDITIONS:\n",
    "    with open(f'{DATA_PATH}/_annotations/{condition}.json') as f:\n",
    "        annotations[condition] = json.load(f)"
   ]
  },
  {
   "cell_type": "code",
   "execution_count": 3,
   "id": "7e6815af-85fb-483e-ae69-c3a3fee78ffa",
   "metadata": {
    "tags": []
   },
   "outputs": [],
   "source": [
    "def preprocess_image(img):\n",
    "    if COLOR_CHANNELS == 1:\n",
    "        img = cv2.cvtColor(img, cv2.COLOR_BGR2GRAY)\n",
    "    img_resized = cv2.resize(img, SIZE)\n",
    "    return img_resized"
   ]
  },
  {
   "attachments": {},
   "cell_type": "markdown",
   "id": "121f42a0-ece9-47f3-aefb-521366921c18",
   "metadata": {},
   "source": [
    "## Load images and annotations"
   ]
  },
  {
   "cell_type": "code",
   "execution_count": 4,
   "id": "06de9c48-aca0-468b-8048-bc7dca63d3ce",
   "metadata": {
    "tags": []
   },
   "outputs": [],
   "source": [
    "images = []\n",
    "labels = []\n",
    "label_names = []\n",
    "\n",
    "for condition in CONDITIONS:\n",
    "    for filename in os.listdir(f\"{DATA_PATH}/{condition}\"):\n",
    "\n",
    "        UID = filename.split('.')[0]\n",
    "        img = cv2.imread(f'{DATA_PATH}/{condition}/{filename}')\n",
    "        \n",
    "        try:\n",
    "            annotation = annotations[condition][UID]\n",
    "        except Exception as e:\n",
    "            print(e)\n",
    "            continue\n",
    "        \n",
    "        for i, bbox in enumerate(annotation['bboxes']):\n",
    "            x1 = int(bbox[0] * img.shape[1])\n",
    "            y1 = int(bbox[1] * img.shape[0])\n",
    "            w = int(bbox[2] * img.shape[1])\n",
    "            h = int(bbox[3] * img.shape[0])\n",
    "            x2 = x1 + w\n",
    "            y2 = y1 + h\n",
    "            \n",
    "            crop = img[y1:y2, x1:x2]\n",
    "            preprocessed = preprocess_image(crop)\n",
    "            \n",
    "            label = annotation['labels'][i]\n",
    "            if label not in label_names:\n",
    "                label_names.append(label)\n",
    "            \n",
    "            label_index = label_names.index(label)\n",
    "            \n",
    "            images.append(preprocessed)\n",
    "            labels.append(label_index)"
   ]
  },
  {
   "attachments": {},
   "cell_type": "markdown",
   "id": "27443d4b-83d1-43d8-9f23-52859703ebd3",
   "metadata": {},
   "source": [
    "## Split data set into train and test"
   ]
  },
  {
   "cell_type": "code",
   "execution_count": 5,
   "id": "14fdf1c6-1722-42d7-a353-69cfbdf6d675",
   "metadata": {
    "tags": []
   },
   "outputs": [],
   "source": [
    "X_train, X_test, y_train, y_test = train_test_split(images, labels, test_size=0.2, random_state=42)"
   ]
  },
  {
   "attachments": {},
   "cell_type": "markdown",
   "id": "7d160d5f-2bd9-4864-9a9e-d5525b55bde6",
   "metadata": {},
   "source": [
    "## Transform data sets into a format compatible with neural network"
   ]
  },
  {
   "cell_type": "code",
   "execution_count": 6,
   "id": "243e3d2c-37ad-4596-a431-cdfd55151145",
   "metadata": {
    "tags": []
   },
   "outputs": [
    {
     "name": "stdout",
     "output_type": "stream",
     "text": [
      "(512, 64, 64, 3) (128, 64, 64, 3) (512, 3) (128, 3)\n"
     ]
    }
   ],
   "source": [
    "X_train = np.array(X_train).astype('float32')\n",
    "X_train = X_train / 255.\n",
    "\n",
    "X_test = np.array(X_test).astype('float32')\n",
    "X_test = X_test / 255.\n",
    "\n",
    "y_train_one_hot = to_categorical(y_train)\n",
    "y_test_one_hot = to_categorical(y_test)\n",
    "\n",
    "train_label = y_train_one_hot\n",
    "test_label = y_test_one_hot\n",
    "\n",
    "X_train = X_train.reshape(-1, IMG_SIZE, IMG_SIZE, COLOR_CHANNELS)\n",
    "X_test = X_test.reshape(-1, IMG_SIZE, IMG_SIZE, COLOR_CHANNELS)\n",
    "\n",
    "print(X_train.shape, X_test.shape, train_label.shape, test_label.shape)"
   ]
  },
  {
   "attachments": {},
   "cell_type": "markdown",
   "id": "cdabf9ab",
   "metadata": {},
   "source": [
    "## Model setup\n",
    "\n",
    "The kernel size of the convolution layer was changed as described further below"
   ]
  },
  {
   "cell_type": "code",
   "execution_count": 7,
   "id": "489e2741-bb40-4501-819e-7a6c18ebcf17",
   "metadata": {
    "tags": []
   },
   "outputs": [],
   "source": [
    "# variables for hyperparameters\n",
    "batch_size = 8\n",
    "epochs = 50\n",
    "num_classes = len(label_names)\n",
    "activation = 'relu'\n",
    "activation_conv = 'LeakyReLU'  # LeakyReLU\n",
    "layer_count = 2\n",
    "num_neurons = 64\n",
    "\n",
    "# define model structure\n",
    "# with keras, we can use a model's add() function to add layers to the network one by one\n",
    "model = Sequential()\n",
    "\n",
    "# data augmentation (this can also be done beforehand - but don't augment the test dataset!)\n",
    "model.add(RandomFlip('horizontal'))\n",
    "model.add(RandomContrast(0.1))\n",
    "#model.add(RandomBrightness(0.1))\n",
    "#model.add(RandomRotation(0.2))\n",
    "\n",
    "# first, we add some convolution layers followed by max pooling\n",
    "model.add(Conv2D(64, kernel_size=(1, 1), activation=activation_conv, input_shape=(SIZE[0], SIZE[1], COLOR_CHANNELS), padding='same'))\n",
    "model.add(MaxPooling2D(pool_size=(4, 4), padding='same'))\n",
    "\n",
    "model.add(Conv2D(32, (5, 5), activation=activation_conv, padding='same'))\n",
    "model.add(MaxPooling2D(pool_size=(3, 3), padding='same'))\n",
    "\n",
    "model.add(Conv2D(32, (10, 10), activation=activation_conv, padding='same'))\n",
    "model.add(MaxPooling2D(pool_size=(2, 2), padding='same'))\n",
    "\n",
    "# dropout layers can drop part of the data during each epoch - this prevents overfitting\n",
    "model.add(Dropout(0.2))\n",
    "\n",
    "# after the convolution layers, we have to flatten the data so it can be fed into fully connected layers\n",
    "model.add(Flatten())\n",
    "\n",
    "# add some fully connected layers (\"Dense\")\n",
    "for i in range(layer_count - 1):\n",
    "    model.add(Dense(num_neurons, activation=activation))\n",
    "\n",
    "model.add(Dense(num_neurons, activation=activation))\n",
    "\n",
    "# for classification, the last layer has to use the softmax activation function, which gives us probabilities for each category\n",
    "model.add(Dense(num_classes, activation='softmax'))\n",
    "\n",
    "# specify loss function, optimizer and evaluation metrics\n",
    "# for classification, categorial crossentropy is used as a loss function\n",
    "# use the adam optimizer unless you have a good reason not to\n",
    "model.compile(loss=categorical_crossentropy, optimizer=\"adam\", metrics=['accuracy'])\n",
    "\n",
    "# define callback functions that react to the model's behavior during training\n",
    "# in this example, we reduce the learning rate once we get stuck and early stopping\n",
    "# to cancel the training if there are no improvements for a certain amount of epochs\n",
    "reduce_lr = ReduceLROnPlateau(monitor='val_loss', factor=0.2, patience=2, min_lr=0.0001)\n",
    "stop_early = EarlyStopping(monitor='val_loss', patience=3)"
   ]
  },
  {
   "attachments": {},
   "cell_type": "markdown",
   "id": "c0401f45-19a6-4447-805c-50516dcad753",
   "metadata": {},
   "source": [
    "## Training the model"
   ]
  },
  {
   "cell_type": "code",
   "execution_count": 8,
   "id": "71c4c865-ee8f-4385-8ae7-9d0f70802c9f",
   "metadata": {
    "tags": []
   },
   "outputs": [
    {
     "name": "stdout",
     "output_type": "stream",
     "text": [
      "Epoch 1/50\n",
      "64/64 [==============================] - 7s 76ms/step - loss: 1.0177 - accuracy: 0.4395 - val_loss: 0.9299 - val_accuracy: 0.6172 - lr: 0.0010\n",
      "Epoch 2/50\n",
      "64/64 [==============================] - 5s 74ms/step - loss: 0.7326 - accuracy: 0.6992 - val_loss: 0.6772 - val_accuracy: 0.6953 - lr: 0.0010\n",
      "Epoch 3/50\n",
      "64/64 [==============================] - 5s 72ms/step - loss: 0.5261 - accuracy: 0.8184 - val_loss: 0.6137 - val_accuracy: 0.7266 - lr: 0.0010\n",
      "Epoch 4/50\n",
      "64/64 [==============================] - 5s 74ms/step - loss: 0.3879 - accuracy: 0.8711 - val_loss: 0.3687 - val_accuracy: 0.8359 - lr: 0.0010\n",
      "Epoch 5/50\n",
      "64/64 [==============================] - 5s 72ms/step - loss: 0.3212 - accuracy: 0.8730 - val_loss: 0.5145 - val_accuracy: 0.8281 - lr: 0.0010\n",
      "Epoch 6/50\n",
      "64/64 [==============================] - 5s 75ms/step - loss: 0.2467 - accuracy: 0.9180 - val_loss: 0.3154 - val_accuracy: 0.8750 - lr: 0.0010\n",
      "Epoch 7/50\n",
      "64/64 [==============================] - 5s 73ms/step - loss: 0.1955 - accuracy: 0.9336 - val_loss: 0.3539 - val_accuracy: 0.8828 - lr: 0.0010\n",
      "Epoch 8/50\n",
      "64/64 [==============================] - 5s 77ms/step - loss: 0.1456 - accuracy: 0.9531 - val_loss: 0.2591 - val_accuracy: 0.8750 - lr: 0.0010\n",
      "Epoch 9/50\n",
      "64/64 [==============================] - 5s 75ms/step - loss: 0.1262 - accuracy: 0.9590 - val_loss: 0.2389 - val_accuracy: 0.9062 - lr: 0.0010\n",
      "Epoch 10/50\n",
      "64/64 [==============================] - 5s 76ms/step - loss: 0.0961 - accuracy: 0.9746 - val_loss: 0.2633 - val_accuracy: 0.8984 - lr: 0.0010\n",
      "Epoch 11/50\n",
      "64/64 [==============================] - 5s 74ms/step - loss: 0.1390 - accuracy: 0.9590 - val_loss: 0.2973 - val_accuracy: 0.8672 - lr: 0.0010\n",
      "Epoch 12/50\n",
      "64/64 [==============================] - 5s 76ms/step - loss: 0.0642 - accuracy: 0.9844 - val_loss: 0.2260 - val_accuracy: 0.8984 - lr: 2.0000e-04\n",
      "Epoch 13/50\n",
      "64/64 [==============================] - 5s 76ms/step - loss: 0.0403 - accuracy: 0.9922 - val_loss: 0.2440 - val_accuracy: 0.8984 - lr: 2.0000e-04\n",
      "Epoch 14/50\n",
      "64/64 [==============================] - 5s 78ms/step - loss: 0.0286 - accuracy: 0.9941 - val_loss: 0.2238 - val_accuracy: 0.8984 - lr: 2.0000e-04\n",
      "Epoch 15/50\n",
      "64/64 [==============================] - 5s 76ms/step - loss: 0.0255 - accuracy: 0.9941 - val_loss: 0.1960 - val_accuracy: 0.8984 - lr: 2.0000e-04\n",
      "Epoch 16/50\n",
      "64/64 [==============================] - 5s 77ms/step - loss: 0.0265 - accuracy: 0.9922 - val_loss: 0.1914 - val_accuracy: 0.9141 - lr: 2.0000e-04\n",
      "Epoch 17/50\n",
      "64/64 [==============================] - 5s 76ms/step - loss: 0.0165 - accuracy: 0.9980 - val_loss: 0.1991 - val_accuracy: 0.9141 - lr: 2.0000e-04\n",
      "Epoch 18/50\n",
      "64/64 [==============================] - 5s 78ms/step - loss: 0.0253 - accuracy: 0.9922 - val_loss: 0.2253 - val_accuracy: 0.8984 - lr: 2.0000e-04\n",
      "Epoch 19/50\n",
      "64/64 [==============================] - 5s 80ms/step - loss: 0.0179 - accuracy: 0.9961 - val_loss: 0.1964 - val_accuracy: 0.8984 - lr: 1.0000e-04\n"
     ]
    }
   ],
   "source": [
    "history = model.fit(\n",
    "    X_train,\n",
    "    train_label,\n",
    "    batch_size=batch_size,\n",
    "    epochs=epochs,\n",
    "    verbose=1,\n",
    "    validation_data=(X_test, test_label),\n",
    "    callbacks=[reduce_lr, stop_early]\n",
    ")"
   ]
  },
  {
   "cell_type": "code",
   "execution_count": 9,
   "id": "abaadcde-ab15-4e1c-bbab-cf359fba6325",
   "metadata": {
    "tags": []
   },
   "outputs": [
    {
     "name": "stdout",
     "output_type": "stream",
     "text": [
      "Model: \"sequential\"\n",
      "_________________________________________________________________\n",
      " Layer (type)                Output Shape              Param #   \n",
      "=================================================================\n",
      " random_flip (RandomFlip)    (8, 64, 64, 3)            0         \n",
      "                                                                 \n",
      " random_contrast (RandomCont  (8, 64, 64, 3)           0         \n",
      " rast)                                                           \n",
      "                                                                 \n",
      " conv2d (Conv2D)             (8, 64, 64, 64)           256       \n",
      "                                                                 \n",
      " max_pooling2d (MaxPooling2D  (8, 16, 16, 64)          0         \n",
      " )                                                               \n",
      "                                                                 \n",
      " conv2d_1 (Conv2D)           (8, 16, 16, 32)           51232     \n",
      "                                                                 \n",
      " max_pooling2d_1 (MaxPooling  (8, 6, 6, 32)            0         \n",
      " 2D)                                                             \n",
      "                                                                 \n",
      " conv2d_2 (Conv2D)           (8, 6, 6, 32)             102432    \n",
      "                                                                 \n",
      " max_pooling2d_2 (MaxPooling  (8, 3, 3, 32)            0         \n",
      " 2D)                                                             \n",
      "                                                                 \n",
      " dropout (Dropout)           (8, 3, 3, 32)             0         \n",
      "                                                                 \n",
      " flatten (Flatten)           (8, 288)                  0         \n",
      "                                                                 \n",
      " dense (Dense)               (8, 64)                   18496     \n",
      "                                                                 \n",
      " dense_1 (Dense)             (8, 64)                   4160      \n",
      "                                                                 \n",
      " dense_2 (Dense)             (8, 3)                    195       \n",
      "                                                                 \n",
      "=================================================================\n",
      "Total params: 176,771\n",
      "Trainable params: 176,771\n",
      "Non-trainable params: 0\n",
      "_________________________________________________________________\n"
     ]
    }
   ],
   "source": [
    "model.summary()"
   ]
  },
  {
   "attachments": {},
   "cell_type": "markdown",
   "id": "a30ac212-8bd0-4a2d-9f9e-4a137d020645",
   "metadata": {},
   "source": [
    "## Plot accuracy and loss of the training process"
   ]
  },
  {
   "cell_type": "code",
   "execution_count": 10,
   "id": "275092f5-84e2-4a26-850d-3b267f91fe27",
   "metadata": {
    "tags": []
   },
   "outputs": [
    {
     "data": {
      "text/plain": [
       "[<matplotlib.lines.Line2D at 0x7fb52852f8d0>]"
      ]
     },
     "execution_count": 10,
     "metadata": {},
     "output_type": "execute_result"
    },
    {
     "data": {
      "image/png": "[encoded data removed]",
      "text/plain": [
       "<Figure size 1500x700 with 1 Axes>"
      ]
     },
     "metadata": {},
     "output_type": "display_data"
    }
   ],
   "source": [
    "loss = history.history['loss']\n",
    "val_loss = history.history['val_loss']\n",
    "accuracy = history.history['accuracy']\n",
    "val_accuracy = history.history['val_accuracy']\n",
    "\n",
    "fig = plt.figure(figsize=(15, 7))\n",
    "ax = plt.gca()\n",
    "\n",
    "ax.set_xlabel('Epoch')\n",
    "ax.set_ylabel('Accuracy (Line), Loss (Dashes)')\n",
    "\n",
    "ax.axhline(1, color='gray')\n",
    "\n",
    "plt.plot(accuracy, color='blue')\n",
    "plt.plot(val_accuracy, color='orange')\n",
    "plt.plot(loss, '--', color='blue', alpha=0.5)\n",
    "plt.plot(val_loss, '--', color='orange', alpha=0.5)"
   ]
  },
  {
   "attachments": {},
   "cell_type": "markdown",
   "id": "165b3fd0-e2fd-4a10-95c6-1370908b9f0c",
   "metadata": {},
   "source": [
    "## visualize classification results with a confusion matrix"
   ]
  },
  {
   "cell_type": "code",
   "execution_count": 11,
   "id": "6bf19f75-976a-449a-bc7a-76a4d30e9c92",
   "metadata": {
    "tags": []
   },
   "outputs": [
    {
     "name": "stdout",
     "output_type": "stream",
     "text": [
      "4/4 [==============================] - 0s 50ms/step\n",
      "before [[5.79263666e-04 5.22776914e-04 9.98897910e-01]\n",
      " [3.17706872e-05 9.99959409e-01 8.69342875e-06]\n",
      " [1.18013190e-08 9.99999940e-01 2.85803770e-10]\n",
      " [9.99885261e-01 9.94804141e-05 1.51004997e-05]\n",
      " [9.99562562e-01 3.06453847e-04 1.30963279e-04]\n",
      " [1.66457570e-09 9.99999940e-01 9.26215181e-12]\n",
      " [2.18893019e-05 9.99977767e-01 2.30953148e-07]\n",
      " [5.52353170e-03 9.83948529e-01 1.05278753e-02]\n",
      " [9.16314580e-10 9.99999940e-01 4.93048831e-11]\n",
      " [8.64935191e-06 9.99990046e-01 1.19947981e-06]\n",
      " [6.19314960e-04 4.68271668e-04 9.98912394e-01]\n",
      " [9.41636145e-01 1.86321568e-02 3.97317000e-02]\n",
      " [9.99990165e-01 2.80457084e-06 6.90526349e-06]\n",
      " [9.99517620e-01 4.76897723e-04 5.52545043e-06]\n",
      " [7.84338266e-03 9.92152929e-01 3.61721959e-06]\n",
      " [9.90750194e-01 1.44466525e-04 9.10525676e-03]\n",
      " [2.66897283e-03 9.99077708e-02 8.97423208e-01]\n",
      " [8.50290974e-07 3.41238120e-07 9.99998748e-01]\n",
      " [1.58394209e-06 9.99996960e-01 1.40216855e-06]\n",
      " [1.03493050e-01 6.00520347e-04 8.95906329e-01]\n",
      " [1.02404552e-09 9.99999940e-01 3.21574260e-11]\n",
      " [6.08843982e-01 5.24928328e-05 3.91103595e-01]\n",
      " [5.61580819e-04 9.99229431e-01 2.08971513e-04]\n",
      " [9.99907672e-01 5.26394433e-05 3.95463358e-05]\n",
      " [1.42042907e-02 9.85654533e-01 1.41256634e-04]\n",
      " [1.70899108e-01 8.28494251e-01 6.06623653e-04]\n",
      " [5.66126369e-02 3.02784413e-01 6.40602887e-01]\n",
      " [4.83685508e-05 2.94923296e-07 9.99951303e-01]\n",
      " [2.30659722e-07 9.99999702e-01 5.49606440e-08]\n",
      " [9.99999821e-01 1.77391826e-07 4.17803747e-08]\n",
      " [1.41978741e-03 1.11660331e-04 9.98468578e-01]\n",
      " [8.83744651e-05 1.20960085e-05 9.99899447e-01]\n",
      " [1.33758089e-08 9.99999940e-01 2.60486493e-10]\n",
      " [2.82597666e-05 9.99966681e-01 5.01496152e-06]\n",
      " [1.33418450e-08 9.99999940e-01 1.62889258e-10]\n",
      " [1.42603263e-08 9.99999940e-01 1.46001572e-10]\n",
      " [8.41417611e-01 1.02402195e-01 5.61801903e-02]\n",
      " [1.15804299e-09 9.99999940e-01 1.00733630e-10]\n",
      " [1.02578233e-04 9.99891460e-01 5.80360984e-06]\n",
      " [3.50418741e-05 9.99962389e-01 2.47200296e-06]\n",
      " [6.94700429e-05 8.73838580e-05 9.99843121e-01]\n",
      " [1.17673853e-03 8.28258514e-01 1.70564771e-01]\n",
      " [9.99999940e-01 1.30812139e-09 5.45031078e-08]\n",
      " [1.32644281e-01 1.54699097e-04 8.67200911e-01]\n",
      " [9.99975502e-01 1.53598103e-05 9.03657110e-06]\n",
      " [1.19573288e-05 9.99985993e-01 2.04031130e-06]\n",
      " [9.99853134e-01 1.15521121e-04 3.14799290e-05]\n",
      " [9.99936044e-01 1.84021192e-05 4.55217560e-05]\n",
      " [9.83472049e-01 1.20804086e-03 1.53200002e-02]\n",
      " [7.79638212e-05 9.99890387e-01 3.16203223e-05]\n",
      " [7.08338261e-01 2.52998620e-02 2.66361892e-01]\n",
      " [4.29735810e-05 9.99920785e-01 3.61356542e-05]\n",
      " [6.95847094e-01 2.31947899e-01 7.22050294e-02]\n",
      " [9.99999702e-01 1.51190449e-07 1.23499177e-07]\n",
      " [1.80823018e-03 9.65857983e-01 3.23337130e-02]\n",
      " [4.12222846e-07 9.99999464e-01 1.44102458e-07]\n",
      " [1.52243217e-07 9.99999821e-01 3.07306784e-08]\n",
      " [9.99460816e-01 2.63108959e-04 2.76157138e-04]\n",
      " [1.73295700e-06 9.99998033e-01 1.11877071e-07]\n",
      " [4.43130732e-12 9.99999940e-01 2.04020692e-14]\n",
      " [1.81023451e-03 6.94153205e-05 9.98120368e-01]\n",
      " [4.88562182e-05 9.99945819e-01 5.30156012e-06]\n",
      " [9.99998629e-01 3.06380713e-07 9.75787884e-07]\n",
      " [2.56857872e-01 7.40678966e-01 2.46309256e-03]\n",
      " [4.96235210e-04 7.54340377e-04 9.98749435e-01]\n",
      " [3.86783950e-06 3.83800689e-08 9.99996006e-01]\n",
      " [9.22818668e-03 3.88212711e-01 6.02559030e-01]\n",
      " [4.78870235e-03 9.95166719e-01 4.44359030e-05]\n",
      " [2.92673922e-05 9.99945462e-01 2.50960693e-05]\n",
      " [9.82200960e-04 9.99000371e-01 1.73102781e-05]\n",
      " [2.40831578e-05 3.42739963e-06 9.99972403e-01]\n",
      " [2.32629955e-05 9.99976337e-01 3.00388507e-07]\n",
      " [9.88102973e-01 1.05038965e-02 1.39310770e-03]\n",
      " [1.63925633e-05 9.99983490e-01 3.64506967e-08]\n",
      " [1.25336710e-05 9.99985039e-01 2.41475232e-06]\n",
      " [1.72379787e-05 3.96728046e-06 9.99978721e-01]\n",
      " [7.66506232e-03 9.86639082e-01 5.69582637e-03]\n",
      " [1.43990826e-06 1.48119554e-07 9.99998391e-01]\n",
      " [4.87450307e-05 6.83755643e-05 9.99882758e-01]\n",
      " [9.89293039e-01 6.24713302e-03 4.45985422e-03]\n",
      " [9.99830484e-01 1.25836683e-04 4.36445043e-05]\n",
      " [1.93517248e-03 7.20358279e-04 9.97344434e-01]\n",
      " [4.61994277e-05 6.37341088e-07 9.99953091e-01]\n",
      " [1.33018839e-04 9.99789715e-01 7.73698193e-05]\n",
      " [2.43005299e-04 2.31373197e-04 9.99525607e-01]\n",
      " [9.93203044e-01 2.94227782e-03 3.85456788e-03]\n",
      " [9.99984920e-01 8.86861835e-06 6.25768189e-06]\n",
      " [8.24867982e-07 9.99997914e-01 1.23321183e-06]\n",
      " [6.31508648e-01 3.64978462e-01 3.51283886e-03]\n",
      " [4.09782911e-03 4.04151063e-03 9.91860569e-01]\n",
      " [1.23239329e-06 9.99995768e-01 2.98871987e-06]\n",
      " [9.51744914e-02 3.89471911e-02 8.65878284e-01]\n",
      " [9.03972523e-06 9.99981225e-01 9.69741450e-06]\n",
      " [5.66031122e-05 1.19898061e-04 9.99823570e-01]\n",
      " [5.83761066e-05 9.99940813e-01 6.81784513e-07]\n",
      " [9.87537305e-07 9.99998987e-01 5.46562937e-08]\n",
      " [9.99999106e-01 6.76422133e-07 1.74063857e-07]\n",
      " [2.60956644e-04 4.83870317e-05 9.99690652e-01]\n",
      " [1.07930180e-06 9.99998629e-01 1.80737402e-07]\n",
      " [1.55789443e-04 9.99822378e-01 2.18596178e-05]\n",
      " [8.86656821e-01 1.12026155e-01 1.31699315e-03]\n",
      " [1.29843943e-06 2.42158098e-08 9.99998629e-01]\n",
      " [2.67927647e-02 5.44913530e-01 4.28293616e-01]\n",
      " [2.72937745e-01 7.26210535e-01 8.51679128e-04]\n",
      " [1.46535260e-03 1.14833256e-05 9.98523057e-01]\n",
      " [2.51129619e-03 9.96893287e-01 5.95359830e-04]\n",
      " [9.99657512e-01 3.29895935e-04 1.26805007e-05]\n",
      " [2.69378811e-01 7.30271101e-01 3.50172922e-04]\n",
      " [2.27846422e-11 9.99999940e-01 8.37765024e-13]\n",
      " [3.80943241e-08 9.99999940e-01 4.06040401e-09]\n",
      " [7.15380488e-03 9.92540479e-01 3.05701222e-04]\n",
      " [3.78264340e-05 9.99959290e-01 2.91196420e-06]\n",
      " [9.94895995e-02 5.56574203e-02 8.44853044e-01]\n",
      " [9.99999821e-01 1.49169907e-07 3.29659358e-08]\n",
      " [1.23608752e-05 3.20133495e-06 9.99984324e-01]\n",
      " [4.25916426e-02 1.55662466e-03 9.55851734e-01]\n",
      " [7.97908783e-01 1.92913368e-01 9.17784031e-03]\n",
      " [4.26793633e-07 9.99999344e-01 8.91891574e-08]\n",
      " [3.51465460e-05 9.99960959e-01 3.75868035e-06]\n",
      " [4.43164408e-02 3.39517482e-02 9.21731710e-01]\n",
      " [2.67491055e-06 3.02026308e-07 9.99996960e-01]\n",
      " [3.48255457e-03 9.61797559e-05 9.96421278e-01]\n",
      " [4.81067039e-03 5.75548448e-02 9.37634587e-01]\n",
      " [9.79528546e-01 7.89448712e-03 1.25769628e-02]\n",
      " [7.00011430e-03 7.40949810e-01 2.52050012e-01]\n",
      " [9.77039803e-04 2.62779577e-05 9.98996735e-01]\n",
      " [4.66697514e-02 8.65483642e-01 8.78465623e-02]\n",
      " [9.99999106e-01 9.63687725e-08 7.59073373e-07]]\n",
      "probabilities [2 1 1 0 0 1 1 1 1 1 2 0 0 0 1 0 2 2 1 2 1 0 1 0 1 1 2 2 1 0 2 2 1 1 1 1 0\n",
      " 1 1 1 2 1 0 2 0 1 0 0 0 1 0 1 0 0 1 1 1 0 1 1 2 1 0 1 2 2 2 1 1 1 2 1 0 1\n",
      " 1 2 1 2 2 0 0 2 2 1 2 0 0 1 0 2 1 2 1 2 1 1 0 2 1 1 0 2 1 1 2 1 0 1 1 1 1\n",
      " 1 2 0 2 2 0 1 1 2 2 2 2 0 1 2 1 0]\n"
     ]
    },
    {
     "data": {
      "image/png": "[encoded data removed]",
      "text/plain": [
       "<Figure size 1000x1000 with 2 Axes>"
      ]
     },
     "metadata": {},
     "output_type": "display_data"
    }
   ],
   "source": [
    "# let the model make predictions for our training data\n",
    "y_predictions = model.predict(X_test)\n",
    "\n",
    "# we get a 2D numpy array with probabilities for each category\n",
    "print('before', y_predictions)\n",
    "\n",
    "# to build a confusion matrix, we have to convert it to classifications\n",
    "# this can be done by using the argmax() function to set the probability to 1 and the rest to 0\n",
    "y_predictions = np.argmax(y_predictions, axis=1)\n",
    "\n",
    "print('probabilities', y_predictions)\n",
    "\n",
    "# create and plot confusion matrix\n",
    "conf_matrix = confusion_matrix(y_test, y_predictions)\n",
    "\n",
    "fig = plt.figure(figsize=(10, 10))\n",
    "\n",
    "ConfusionMatrixDisplay(conf_matrix, display_labels=label_names).plot(ax=plt.gca())\n",
    "\n",
    "plt.xticks(rotation=90, ha='center')\n",
    "pass"
   ]
  },
  {
   "attachments": {},
   "cell_type": "markdown",
   "id": "fed612ac",
   "metadata": {},
   "source": [
    "# Influence of kernel size on model performance\n",
    "\n",
    "## Parameters\n",
    "\n",
    "To gather insight on the effect of kernel size on the model performance the following parameters were tested:\n",
    "\n",
    "- **All low**:\n",
    "    Every convolution layer applied a kernel size of **(1/1)**\n",
    "- **All high**:\n",
    "    Every convolution layer applied a (comparatively) high kernel size of **(10/10)**\n",
    "- **All mid**:\n",
    "    Every convolution layer applied a kernel size of **(5/5)**\n",
    "- **High to low**:\n",
    "    The first convolution layer applied a **(10/10)** kernel, the second one **(5/5)**, the last one **(1/1)**\n",
    "- **Low to high**:\n",
    "    The first convolution layer applied a **(1/1)** kernel, the second one **(5/5)**, the last one **(10/10)**\n",
    "\n",
    "Everything else remained unchanged\n",
    "\n",
    "## Method\n",
    "\n",
    "For each parameter 10 training sessions were carried out with the script above and every session was logged to the raw_data.csv file.\n",
    "\n",
    "## Assumptions\n",
    "\n",
    "1. Effects on computing time: Higher kernel sizes might lead to higher computing times, as the complexity of operations increases\n",
    "2. As convolution layers are used to extract features from images, small sizes might not be able to identify features, whereas larger kernels could make to rough of an assumption. This could mean, that medium kernel sizes lead to the highest performance"
   ]
  },
  {
   "cell_type": "code",
   "execution_count": 1,
   "id": "1757789b",
   "metadata": {},
   "outputs": [],
   "source": [
    "import pandas as pd"
   ]
  },
  {
   "cell_type": "code",
   "execution_count": 4,
   "id": "f67d6a01",
   "metadata": {},
   "outputs": [],
   "source": [
    "df = pd.read_csv(\"./raw_data.csv\")\n",
    "df = df.drop(columns=\"Attempt\")\n",
    "grouped = df.groupby(\"kernel_size\").mean()"
   ]
  },
  {
   "cell_type": "code",
   "execution_count": 5,
   "id": "1e42eceb",
   "metadata": {},
   "outputs": [
    {
     "data": {
      "text/html": [
       "<div>\n",
       "<style scoped>\n",
       "    .dataframe tbody tr th:only-of-type {\n",
       "        vertical-align: middle;\n",
       "    }\n",
       "\n",
       "    .dataframe tbody tr th {\n",
       "        vertical-align: top;\n",
       "    }\n",
       "\n",
       "    .dataframe thead th {\n",
       "        text-align: right;\n",
       "    }\n",
       "</style>\n",
       "<table border=\"1\" class=\"dataframe\">\n",
       "  <thead>\n",
       "    <tr style=\"text-align: right;\">\n",
       "      <th></th>\n",
       "      <th>Epochs</th>\n",
       "      <th>Time / Epoch (s)</th>\n",
       "      <th>Total Time (s)</th>\n",
       "      <th>Time / step (ms)</th>\n",
       "      <th>Loss</th>\n",
       "      <th>Accuracy</th>\n",
       "      <th>Val_loss</th>\n",
       "      <th>Val_accuracy</th>\n",
       "    </tr>\n",
       "    <tr>\n",
       "      <th>kernel_size</th>\n",
       "      <th></th>\n",
       "      <th></th>\n",
       "      <th></th>\n",
       "      <th></th>\n",
       "      <th></th>\n",
       "      <th></th>\n",
       "      <th></th>\n",
       "      <th></th>\n",
       "    </tr>\n",
       "  </thead>\n",
       "  <tbody>\n",
       "    <tr>\n",
       "      <th>(1/1)</th>\n",
       "      <td>26.1</td>\n",
       "      <td>2.4</td>\n",
       "      <td>63.3</td>\n",
       "      <td>37.3</td>\n",
       "      <td>0.27112</td>\n",
       "      <td>0.90272</td>\n",
       "      <td>0.43597</td>\n",
       "      <td>0.84376</td>\n",
       "    </tr>\n",
       "    <tr>\n",
       "      <th>(10/10)</th>\n",
       "      <td>27.6</td>\n",
       "      <td>12.5</td>\n",
       "      <td>343.8</td>\n",
       "      <td>194.3</td>\n",
       "      <td>0.11125</td>\n",
       "      <td>0.96543</td>\n",
       "      <td>0.23352</td>\n",
       "      <td>0.93436</td>\n",
       "    </tr>\n",
       "    <tr>\n",
       "      <th>(5/5)</th>\n",
       "      <td>15.0</td>\n",
       "      <td>5.3</td>\n",
       "      <td>81.1</td>\n",
       "      <td>81.6</td>\n",
       "      <td>0.04387</td>\n",
       "      <td>0.98670</td>\n",
       "      <td>0.11169</td>\n",
       "      <td>0.96877</td>\n",
       "    </tr>\n",
       "    <tr>\n",
       "      <th>HIGH-LOW</th>\n",
       "      <td>17.4</td>\n",
       "      <td>8.4</td>\n",
       "      <td>147.0</td>\n",
       "      <td>131.7</td>\n",
       "      <td>0.11075</td>\n",
       "      <td>0.96463</td>\n",
       "      <td>0.18497</td>\n",
       "      <td>0.93828</td>\n",
       "    </tr>\n",
       "    <tr>\n",
       "      <th>LOW-HIGH</th>\n",
       "      <td>14.0</td>\n",
       "      <td>5.0</td>\n",
       "      <td>70.0</td>\n",
       "      <td>76.2</td>\n",
       "      <td>0.05300</td>\n",
       "      <td>0.98594</td>\n",
       "      <td>0.21900</td>\n",
       "      <td>0.91640</td>\n",
       "    </tr>\n",
       "  </tbody>\n",
       "</table>\n",
       "</div>"
      ],
      "text/plain": [
       "             Epochs  Time / Epoch (s)  Total Time (s)  Time / step (ms)  \\\n",
       "kernel_size                                                               \n",
       "(1/1)          26.1               2.4            63.3              37.3   \n",
       "(10/10)        27.6              12.5           343.8             194.3   \n",
       "(5/5)          15.0               5.3            81.1              81.6   \n",
       "HIGH-LOW       17.4               8.4           147.0             131.7   \n",
       "LOW-HIGH       14.0               5.0            70.0              76.2   \n",
       "\n",
       "                Loss  Accuracy  Val_loss  Val_accuracy  \n",
       "kernel_size                                             \n",
       "(1/1)        0.27112   0.90272   0.43597       0.84376  \n",
       "(10/10)      0.11125   0.96543   0.23352       0.93436  \n",
       "(5/5)        0.04387   0.98670   0.11169       0.96877  \n",
       "HIGH-LOW     0.11075   0.96463   0.18497       0.93828  \n",
       "LOW-HIGH     0.05300   0.98594   0.21900       0.91640  "
      ]
     },
     "execution_count": 5,
     "metadata": {},
     "output_type": "execute_result"
    }
   ],
   "source": [
    "grouped"
   ]
  },
  {
   "attachments": {},
   "cell_type": "markdown",
   "id": "c5fb9b93",
   "metadata": {},
   "source": [
    "## Findings\n",
    "\n",
    "- Higher kernel sizes lead to a higher overall training time\n",
    "- Accuracy doesn't increase with kernel size\n",
    "- The highest accuracy was reached when applying a constant medium kernel on all convolution layers\n",
    "- Higher kernel sizes lead to a high increase of trainable parameters (as seen in ./model_summaries)"
   ]
  }
 ],
 "metadata": {
  "kernelspec": {
   "display_name": "Python 3 (ipykernel)",
   "language": "python",
   "name": "python3"
  },
  "language_info": {
   "codemirror_mode": {
    "name": "ipython",
    "version": 3
   },
   "file_extension": ".py",
   "mimetype": "text/x-python",
   "name": "python",
   "nbconvert_exporter": "python",
   "pygments_lexer": "ipython3",
   "version": "3.11.3"
  }
 },
 "nbformat": 4,
 "nbformat_minor": 5
}
